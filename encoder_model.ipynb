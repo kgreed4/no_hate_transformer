{
  "nbformat": 4,
  "nbformat_minor": 0,
  "metadata": {
    "colab": {
      "provenance": [],
      "authorship_tag": "ABX9TyMQcFi9moNFZuGIkobRxhWf",
      "include_colab_link": true
    },
    "kernelspec": {
      "name": "python3",
      "display_name": "Python 3"
    },
    "language_info": {
      "name": "python"
    }
  },
  "cells": [
    {
      "cell_type": "markdown",
      "metadata": {
        "id": "view-in-github",
        "colab_type": "text"
      },
      "source": [
        "<a href=\"https://colab.research.google.com/github/kgreed4/no_hate_transformer/blob/dombuford/encoder_model.ipynb\" target=\"_parent\"><img src=\"https://colab.research.google.com/assets/colab-badge.svg\" alt=\"Open In Colab\"/></a>"
      ]
    },
    {
      "cell_type": "code",
      "source": [
        "!pip install torch"
      ],
      "metadata": {
        "colab": {
          "base_uri": "https://localhost:8080/"
        },
        "id": "_envUZaDpBwV",
        "outputId": "b7277ad2-70b1-40cd-9b09-c25705843157"
      },
      "execution_count": 15,
      "outputs": [
        {
          "output_type": "stream",
          "name": "stdout",
          "text": [
            "Requirement already satisfied: torch in /usr/local/lib/python3.10/dist-packages (2.1.0+cu121)\n",
            "Requirement already satisfied: filelock in /usr/local/lib/python3.10/dist-packages (from torch) (3.13.1)\n",
            "Requirement already satisfied: typing-extensions in /usr/local/lib/python3.10/dist-packages (from torch) (4.9.0)\n",
            "Requirement already satisfied: sympy in /usr/local/lib/python3.10/dist-packages (from torch) (1.12)\n",
            "Requirement already satisfied: networkx in /usr/local/lib/python3.10/dist-packages (from torch) (3.2.1)\n",
            "Requirement already satisfied: jinja2 in /usr/local/lib/python3.10/dist-packages (from torch) (3.1.3)\n",
            "Requirement already satisfied: fsspec in /usr/local/lib/python3.10/dist-packages (from torch) (2023.6.0)\n",
            "Requirement already satisfied: triton==2.1.0 in /usr/local/lib/python3.10/dist-packages (from torch) (2.1.0)\n",
            "Requirement already satisfied: MarkupSafe>=2.0 in /usr/local/lib/python3.10/dist-packages (from jinja2->torch) (2.1.5)\n",
            "Requirement already satisfied: mpmath>=0.19 in /usr/local/lib/python3.10/dist-packages (from sympy->torch) (1.3.0)\n"
          ]
        }
      ]
    },
    {
      "cell_type": "code",
      "source": [
        "import torch\n",
        "import torch.nn as nn\n",
        "import math"
      ],
      "metadata": {
        "id": "JELAorPtE6Wa"
      },
      "execution_count": 16,
      "outputs": []
    },
    {
      "cell_type": "code",
      "execution_count": 59,
      "metadata": {
        "id": "RHEMGd7KCHYL"
      },
      "outputs": [],
      "source": [
        "#input embeddings\n",
        "\n",
        "class InputEmbeddings(nn.Module):\n",
        "  def __init__(self, embedding_size:int, vocab_size:int):\n",
        "    super().__init__()\n",
        "    self.embedding_size = embedding_size\n",
        "    self.vocab_size = vocab_size\n",
        "    self.embedding = nn.Embedding(vocab_size, embedding_size)\n",
        "\n",
        "  def forward(self, x):\n",
        "    return self.embedding(x)* math.sqrt(self.embedding_size)\n"
      ]
    },
    {
      "cell_type": "code",
      "source": [
        "# positional encoding\n",
        "\n",
        "class PositionalEncoding(nn.Module):\n",
        "  def __init__(self, embedding_size, seq_len, dropout):\n",
        "    super().__init__()\n",
        "    self.embedding_size = embedding_size\n",
        "    self.seq_len = seq_len\n",
        "    self.dropout = nn.Dropout(dropout)\n",
        "\n",
        "    #need a matrix of size (seq_len, embedding_size)\n",
        "    self.positionalEncoding = torch.zeros(seq_len, embedding_size)\n",
        "\n",
        "    #create a vector of shape seq_len\n",
        "    position = torch.arange(0, seq_len, dtype=torch.float).unsqueeze(1)\n",
        "    dividing_term = torch.exp(torch.arange(0, embedding_size, 2).float()* (-math.log(10000.0)/embedding_size))\n",
        "\n",
        "    #apply sin to even positions in the encoding and cosine to the odd positions\n",
        "    self.positionalEncoding[:, 0::2] = torch.sin(position * dividing_term)\n",
        "    self.positionalEncoding[:, 1::2] = torch.cos(position * dividing_term)\n",
        "\n",
        "    #add batch dimension to positionalEncoding matrix\n",
        "    self.positionalEncoding = self.positionalEncoding.unsqueeze(0)\n",
        "\n",
        "   # self.register_buffer('positionalEncoding',self.positionalEncoding) #the tensor will now be saved in the file\n",
        "\n",
        "  def forward(self, x):\n",
        "    x = x +(self.positionalEncoding[:, :x.shape[1], :]).requires_grad_(False)\n",
        "    return self.dropout(x)"
      ],
      "metadata": {
        "id": "XxXpWzAVF5uL"
      },
      "execution_count": 47,
      "outputs": []
    },
    {
      "cell_type": "code",
      "source": [
        "#layer normalization\n",
        "class LayerNormalization(nn.Module):\n",
        "  def __init__(self, eps:float):\n",
        "    super().__init__()\n",
        "    self.eps = eps\n",
        "    self.alpha = nn.Parameter(torch.ones(1))\n",
        "    self.bias = nn.Parameter(torch.zeros(1))\n",
        "  def forward(self, x):\n",
        "    mean = x.mean(dim = -1, keepdim= True)\n",
        "    std = x.std(dim = -1, keepdim = True)\n",
        "    return self.alpha * (x - mean)/(std + self.eps) + self.bias"
      ],
      "metadata": {
        "id": "Eiw6S-7bIZTZ"
      },
      "execution_count": 4,
      "outputs": []
    },
    {
      "cell_type": "code",
      "source": [
        "#feed forward layer\n",
        "class FeedForward(nn.Module):\n",
        "  def __init__(self, embedding_size:int, d_ff:int, dropout:float):\n",
        "    super().__init__()\n",
        "    self.embedding_size = embedding_size\n",
        "    self.d_ff = d_ff\n",
        "    self.dropout = nn.Dropout(dropout)\n",
        "    self.linear_1 = nn.Linear(embedding_size, d_ff)\n",
        "    self.linear_2 = nn.Linear(d_ff, embedding_size)\n",
        "  def forward(self, x):\n",
        "   # x dimensions are (batch_size, seq_len, embedding_size)\n",
        "    x = self.linear_1(x)\n",
        "    x = torch.relu(x)\n",
        "    x = self.dropout(x)\n",
        "    x = self.linear_2(x)\n",
        "    return x\n"
      ],
      "metadata": {
        "id": "rGsJIunrLJII"
      },
      "execution_count": 5,
      "outputs": []
    },
    {
      "cell_type": "code",
      "source": [
        "class MultiHeadAttentionBlock(nn.Module):\n",
        "  def __init__(self, num_heads, embedding_size, dropout):\n",
        "    super().__init__()\n",
        "    self.num_heads = num_heads\n",
        "    self.embedding_size = embedding_size\n",
        "    self.dropout =nn.Dropout(dropout)\n",
        "    assert embedding_size % num_heads == 0, \"embedding_size is not divisible by num of heads\" #so that the embedding can be divided equally into number of heads there are\n",
        "    self.d_k = int(embedding_size/num_heads)\n",
        "\n",
        "    self.W_q = nn.Linear(embedding_size, embedding_size)\n",
        "    self.W_k = nn.Linear(embedding_size, embedding_size)\n",
        "    self.W_v = nn.Linear(embedding_size, embedding_size)\n",
        "    self.W_o = nn.Linear(embedding_size, embedding_size)\n",
        "\n",
        "  def forward(self, q, k, v):\n",
        "    query  = self.W_q(q)  #(Batch, seq_len, embedding_size)--> (Batch, seq_len, embedding_size)\n",
        "    key = self.W_k(k)     #(Batch, seq_len, embedding_size)--> (Batch, seq_len, embedding_size)\n",
        "    value = self.W_v(v)   #(Batch, seq_len, embedding_size)--> (Batch, seq_len, embedding_size)\n",
        "\n",
        "    query = query.view(query.shape[0], query.shape[1], self.num_heads, self.d_k).transpose(1, 2)  #dividing up for num of heads\n",
        "    key = key.view(key.shape[0], key.shape[1], self.num_heads, self.d_k).transpose(1, 2)\n",
        "    value = value.view(value.shape[0], value.shape[1], self.num_heads, self.d_k).transpose(1,2)\n",
        "\n",
        "    #calculate attention scores and\n",
        "    x, self.attention_scores = MultiHeadAttentionBlock.attention(query, key, value, self.dropout)\n",
        "\n",
        "    x = x.transpose(1, 2).contiguous().view(x.shape[0], -1, self.num_heads * self.d_k)  #(batch, h, seq_len, d_k) --> (batch, seq_len, h, d_k)--> (batch, seq_len, embedding_size)\n",
        "\n",
        "    return self.W_o(x)\n",
        "\n",
        "  @staticmethod\n",
        "  def attention(query, key, value, dropout):\n",
        "    d_k = query.shape[-1]\n",
        "\n",
        "    attention_scores = (query @ key.transpose(-2, -1))/math.sqrt(d_k)\n",
        "    attention_scores = attention_scores.softmax(dim = -1)  #(Batch, num_heads, seq_len, seq_len)\n",
        "    if dropout is not None:\n",
        "      attention_scores = dropout(attention_scores)\n",
        "\n",
        "    return (attention_scores @value), attention_scores\n",
        "\n",
        ""
      ],
      "metadata": {
        "id": "MMN_WS5_UfOu"
      },
      "execution_count": 72,
      "outputs": []
    },
    {
      "cell_type": "code",
      "source": [
        "#define the encoder layer\n",
        "class EncoderLayer(nn.Module):\n",
        "  def __init__(self, embedding_size, num_heads, d_ff, dropout, eps): #will need to update inputs\n",
        "    super().__init__()\n",
        "    self.multiHeadAttention = MultiHeadAttentionBlock(num_heads, embedding_size, dropout)\n",
        "    self.feedForward = FeedForward(embedding_size, d_ff, dropout)\n",
        "    self.layerNormalization = nn.ModuleList(LayerNormalization(eps) for _ in range(2))\n",
        "  def forward(self, x):\n",
        "    multi_head_output = self.multiHeadAttention(x, x, x)\n",
        "    add_norm_output_1 = self.layerNormalization[0](x + multi_head_output) #adding for purpose of residual connections\n",
        "    feed_forward_output = self.feedForward(add_norm_output_1)\n",
        "    add_norm_output_2 = self.layerNormalization[1](add_norm_output_1 + feed_forward_output)\n",
        "\n",
        "    return add_norm_output_2\n"
      ],
      "metadata": {
        "id": "kIkjoM_POC1H"
      },
      "execution_count": 70,
      "outputs": []
    },
    {
      "cell_type": "code",
      "source": [
        "class Encoder(nn.Module):\n",
        "  def __init__(self, n, num_heads, embedding_size, vocab_size, seq_len, d_ff, dropout, eps):\n",
        "    super().__init__()\n",
        "    self.inputEmbeddings = InputEmbeddings(embedding_size, vocab_size)\n",
        "    self.pe = PositionalEncoding(embedding_size, seq_len, dropout)\n",
        "    self.encoderLayer = nn.ModuleList([EncoderLayer(embedding_size, num_heads, d_ff, dropout, eps) for _ in range(n)])\n",
        "  def forward(self, x):\n",
        "    x = self.inputEmbeddings(x)\n",
        "    x = self.pe(x)\n",
        "    for i, layer in enumerate(self.encoderLayer):\n",
        "      x = layer(x)\n",
        "    return x\n",
        ""
      ],
      "metadata": {
        "id": "-cqqsfLLV3QG"
      },
      "execution_count": 73,
      "outputs": []
    },
    {
      "cell_type": "code",
      "source": [
        "from numpy import random\n",
        "from transformers import BertTokenizer\n",
        "n = 6\n",
        "num_heads = 8\n",
        "embedding_size = 512\n",
        "vocab_size = 20000\n",
        "seq_len = 7\n",
        "d_ff = 1024\n",
        "dropout = 0.1\n",
        "eps = 10**-6\n",
        "batch_size = 32\n",
        "\n",
        "input_seq = \"Hello my name is Dominique\"\n",
        "tokenizer = BertTokenizer.from_pretrained('bert-base-uncased')\n",
        "\n",
        "# Tokenize the input text\n",
        "tokenized_input = tokenizer(input_seq, return_tensors='pt')\n",
        "\n",
        "#encoderlayer = EncoderLayer(embedding_size, num_heads, d_ff, dropout, eps)\n",
        "encoder = Encoder(n, num_heads, embedding_size, vocab_size, seq_len, d_ff, dropout, eps)\n",
        "print(encoder(tokenized_input['input_ids']))"
      ],
      "metadata": {
        "colab": {
          "base_uri": "https://localhost:8080/"
        },
        "id": "TCBkAx3-l0Qq",
        "outputId": "d9f8bdeb-fceb-4150-b79b-6612ed2e7949"
      },
      "execution_count": 74,
      "outputs": [
        {
          "output_type": "stream",
          "name": "stdout",
          "text": [
            "tensor([[[ 1.3966e+00,  2.4102e-01,  9.5467e-01,  ..., -2.1335e-01,\n",
            "          -3.4617e-01,  8.7963e-01],\n",
            "         [ 4.2103e-01,  6.5657e-01, -2.7865e-01,  ...,  6.0341e-01,\n",
            "          -2.1286e-03,  4.3383e-01],\n",
            "         [-7.7296e-01, -2.2518e+00, -1.0065e+00,  ..., -9.1954e-02,\n",
            "           5.4797e-01, -1.2536e-01],\n",
            "         ...,\n",
            "         [-6.4488e-01, -1.1524e+00,  2.1089e-01,  ...,  4.1641e-01,\n",
            "          -3.0807e-01,  2.6539e+00],\n",
            "         [-2.3036e+00, -2.3276e+00,  1.1196e+00,  ...,  6.7676e-01,\n",
            "          -6.8076e-01, -7.9725e-01],\n",
            "         [-7.4339e-01,  2.9110e-01,  4.1816e-02,  ...,  2.3869e-01,\n",
            "          -7.6795e-01, -3.7369e-01]]], grad_fn=<AddBackward0>)\n"
          ]
        }
      ]
    }
  ]
}