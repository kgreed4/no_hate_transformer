{
 "cells": [
  {
   "cell_type": "markdown",
   "metadata": {},
   "source": [
    "# Text Classification: Classical Approach"
   ]
  },
  {
   "cell_type": "code",
   "execution_count": 66,
   "metadata": {},
   "outputs": [
    {
     "name": "stderr",
     "output_type": "stream",
     "text": [
      "[nltk_data] Downloading package wordnet to\n",
      "[nltk_data]     /Users/danielmedina/nltk_data...\n",
      "[nltk_data]   Package wordnet is already up-to-date!\n"
     ]
    }
   ],
   "source": [
    "import pandas as pd\n",
    "import re\n",
    "import seaborn as sns\n",
    "import matplotlib.pyplot as plt\n",
    "\n",
    "from nltk.stem import WordNetLemmatizer, PorterStemmer\n",
    "from nltk.corpus import stopwords\n",
    "import nltk\n",
    "nltk.download('wordnet')\n",
    "\n",
    "from sklearn.feature_extraction.text import TfidfVectorizer\n",
    "from sklearn.model_selection import train_test_split\n",
    "from sklearn.metrics import accuracy_score, precision_score, recall_score, f1_score, confusion_matrix\n",
    "from sklearn.feature_extraction.text import TfidfVectorizer\n",
    "from sklearn.ensemble import RandomForestClassifier\n",
    "from sklearn.svm import SVC"
   ]
  },
  {
   "cell_type": "markdown",
   "metadata": {},
   "source": [
    "## Load dataset"
   ]
  },
  {
   "cell_type": "code",
   "execution_count": 67,
   "metadata": {},
   "outputs": [],
   "source": [
    "# Load the dataset\n",
    "data = pd.read_csv('cleaned_data_sw.csv')  # Adjust the path as necessary"
   ]
  },
  {
   "cell_type": "markdown",
   "metadata": {},
   "source": [
    "## Preprocess"
   ]
  },
  {
   "cell_type": "code",
   "execution_count": 68,
   "metadata": {},
   "outputs": [],
   "source": [
    "# Define the preprocess function\n",
    "def preprocess(data_series):\n",
    "    \"\"\"\n",
    "    Preprocess the text data by removing special characters and digits, tokenizing, and stemming and lemmatizing the words.\n",
    "    Input: data_series - a pandas Series containing the text data to be preprocessed\n",
    "    Output: preprocessed_data - a pandas Series containing the preprocessed text data\n",
    "    \"\"\"\n",
    "    # Initialize stemmer and lemmatizer\n",
    "    stemmer = PorterStemmer()\n",
    "    lemmatizer = WordNetLemmatizer()\n",
    "\n",
    "    # Function to clean and preprocess text\n",
    "    def clean_text(text):\n",
    "        # Convert text to lowercase\n",
    "        text = text.lower()\n",
    "        # Remove special characters and digits\n",
    "        text = re.sub(r'[^a-zA-Z\\s]', '', text)\n",
    "        # Tokenize and remove stopwords, then stem and lemmatize\n",
    "        tokens = text.split()\n",
    "        tokens = [stemmer.stem(word) for word in tokens]\n",
    "        tokens = [lemmatizer.lemmatize(word) for word in tokens]\n",
    "        return ' '.join(tokens)\n",
    "\n",
    "    # Apply the cleaning function to the dataset\n",
    "    preprocessed_data = data_series.apply(clean_text)\n",
    "    return preprocessed_data"
   ]
  },
  {
   "cell_type": "markdown",
   "metadata": {},
   "source": [
    "## Extract Features"
   ]
  },
  {
   "cell_type": "code",
   "execution_count": 69,
   "metadata": {},
   "outputs": [],
   "source": [
    "def extract_features(preprocessed_data):\n",
    "    \"\"\"\n",
    "    Extract features from the preprocessed data using TF-IDF.\n",
    "    Input: preprocessed_data - a pandas DataFrame containing the preprocessed text data\n",
    "    Output: features_df - a pandas DataFrame containing the TF-IDF features\n",
    "    \"\"\"\n",
    "    # Initialize a TF-IDF Vectorizer\n",
    "    vectorizer = TfidfVectorizer(max_features=150)  # You can adjust the number of features\n",
    "    \n",
    "    # Fit and transform the preprocessed tweets to create TF-IDF features\n",
    "    tfidf_features = vectorizer.fit_transform(preprocessed_data['preprocessed_tweet'])\n",
    "    \n",
    "    # Convert the TF-IDF features to a dense matrix, then to a DataFrame\n",
    "    features_df = pd.DataFrame(tfidf_features.toarray())\n",
    "    \n",
    "    # Add the 'class' column from the original data\n",
    "    features_df['class'] = preprocessed_data['class'].values\n",
    "    \n",
    "    return features_df"
   ]
  },
  {
   "cell_type": "markdown",
   "metadata": {},
   "source": [
    "## Split data"
   ]
  },
  {
   "cell_type": "code",
   "execution_count": 70,
   "metadata": {},
   "outputs": [],
   "source": [
    "def split_data(data_features, test_size=0.2, val_size=0.25):\n",
    "    \"\"\"\n",
    "    Splits data into training, validation, and testing sets.\n",
    "    \n",
    "    Parameters:\n",
    "    - data_features: DataFrame containing features and class labels.\n",
    "    - test_size: Proportion of the dataset to include in the test split (default: 0.2).\n",
    "    - val_size: Proportion of the training dataset to include in the validation split (default: 0.25).\n",
    "    \n",
    "    Returns:\n",
    "    - X_train, y_train: Features and labels for the training set.\n",
    "    - X_val, y_val: Features and labels for the validation set.\n",
    "    - X_test, y_test: Features and labels for the test set.\n",
    "    \"\"\"\n",
    "    # Separate features and class labels\n",
    "    X = data_features.iloc[:, :-1]  # Assuming the last column is the class label\n",
    "    y = data_features.iloc[:, -1]\n",
    "    \n",
    "    # First split to separate out the test set\n",
    "    X_temp, X_test, y_temp, y_test = train_test_split(X, y, test_size=test_size, random_state=42)\n",
    "    \n",
    "    # Second split to separate out the validation set\n",
    "    X_train, X_val, y_train, y_val = train_test_split(X_temp, y_temp, test_size=val_size, random_state=42)  # val_size here is relative to X_temp\n",
    "    \n",
    "    return X_train, y_train, X_val, y_val, X_test, y_test"
   ]
  },
  {
   "cell_type": "code",
   "execution_count": 71,
   "metadata": {},
   "outputs": [],
   "source": [
    "X_train, y_train, X_val, y_val, X_test, y_test = split_data(features_df)"
   ]
  },
  {
   "cell_type": "markdown",
   "metadata": {},
   "source": [
    "## Train Model"
   ]
  },
  {
   "cell_type": "code",
   "execution_count": 72,
   "metadata": {},
   "outputs": [],
   "source": [
    "def train_model(model, X_train, y_train):\n",
    "    \"\"\"\n",
    "    Trains a machine learning model using the provided training data.\n",
    "\n",
    "    Parameters:\n",
    "    - model: The machine learning model to be trained.\n",
    "    - X_train: The features of the training data.\n",
    "    - y_train: The labels of the training data.\n",
    "\n",
    "    Returns:\n",
    "    - The trained model.\n",
    "    \"\"\"\n",
    "    # Fit the model to the training data\n",
    "    model.fit(X_train, y_train)\n",
    "    \n",
    "    # Return the trained model\n",
    "    return model"
   ]
  },
  {
   "cell_type": "markdown",
   "metadata": {},
   "source": [
    "## Tune Hyperparameters"
   ]
  },
  {
   "cell_type": "code",
   "execution_count": 73,
   "metadata": {},
   "outputs": [],
   "source": [
    "from sklearn.model_selection import GridSearchCV\n",
    "\n",
    "def tune_hyperparameters(model, param_grid, X_val, y_val):\n",
    "    \"\"\"\n",
    "    Tunes hyperparameters for the given model using GridSearchCV on the validation set.\n",
    "\n",
    "    Parameters:\n",
    "    - model: The machine learning model whose hyperparameters are to be tuned.\n",
    "    - param_grid: The hyperparameter settings to try as a dictionary.\n",
    "    - X_val: The features of the validation data.\n",
    "    - y_val: The labels of the validation data.\n",
    "\n",
    "    Returns:\n",
    "    - best_model: The model with the best parameters found.\n",
    "    - best_params: The best parameter settings found.\n",
    "    \"\"\"\n",
    "    # Initialize the GridSearchCV object\n",
    "    grid_search = GridSearchCV(model, param_grid, cv=5, scoring='accuracy')  # You can change scoring to another metric.\n",
    "    \n",
    "    # Fit GridSearchCV to the validation data\n",
    "    grid_search.fit(X_val, y_val)\n",
    "    \n",
    "    # Get the best model and parameters\n",
    "    best_model = grid_search.best_estimator_\n",
    "    best_params = grid_search.best_params_\n",
    "    \n",
    "    # Return the best model and parameters\n",
    "    return best_model, best_params"
   ]
  },
  {
   "cell_type": "markdown",
   "metadata": {},
   "source": [
    "## Evaluate Model"
   ]
  },
  {
   "cell_type": "code",
   "execution_count": 74,
   "metadata": {},
   "outputs": [],
   "source": [
    "def evaluate_model(model, X_test, y_test):\n",
    "    \"\"\"\n",
    "    Evaluates a trained machine learning model using the test set and generates a confusion matrix.\n",
    "\n",
    "    Parameters:\n",
    "    - model: The trained machine learning model.\n",
    "    - X_test: The features of the test data.\n",
    "    - y_test: The labels of the test data.\n",
    "\n",
    "    Returns:\n",
    "    - A dictionary containing the evaluated metrics: accuracy, precision, recall, and F1-score, and a confusion matrix.\n",
    "    \"\"\"\n",
    "    # Make predictions on the test set\n",
    "    y_pred = model.predict(X_test)\n",
    "\n",
    "    # Calculate metrics\n",
    "    accuracy = accuracy_score(y_test, y_pred)\n",
    "    precision = precision_score(y_test, y_pred, average='binary')  # Change 'binary' to 'macro' or 'weighted' for multi-class\n",
    "    recall = recall_score(y_test, y_pred, average='binary')  # Change 'binary' to 'macro' or 'weighted' for multi-class\n",
    "    f1 = f1_score(y_test, y_pred, average='binary')  # Change 'binary' to 'macro' or 'weighted' for multi-class\n",
    "    conf_matrix = confusion_matrix(y_test, y_pred)\n",
    "\n",
    "    # Compile and return the metrics\n",
    "    metrics = {\n",
    "        'accuracy': accuracy,\n",
    "        'precision': precision,\n",
    "        'recall': recall,\n",
    "        'f1_score': f1,\n",
    "        'confusion_matrix': conf_matrix\n",
    "    }\n",
    "\n",
    "    return metrics, conf_matrix\n"
   ]
  },
  {
   "cell_type": "markdown",
   "metadata": {},
   "source": [
    "## Model Pipeline"
   ]
  },
  {
   "cell_type": "code",
   "execution_count": 75,
   "metadata": {},
   "outputs": [],
   "source": [
    "def model_pipeline(raw_data, model, param_grid):\n",
    "    \"\"\"\n",
    "    Executes the machine learning pipeline: preprocessing, feature extraction,\n",
    "    data splitting, training, hyperparameter tuning, and evaluation.\n",
    "\n",
    "    Parameters:\n",
    "    - raw_data: The raw dataset containing 'tweet' and 'class' columns.\n",
    "    - model: An instance of a machine learning model to be trained.\n",
    "    - param_grid: The grid of parameters to tune for the model.\n",
    "\n",
    "    Returns:\n",
    "    - tuned_model: The trained and tuned model.\n",
    "    - evaluation_metrics: The evaluation metrics of the tuned model on the test set.\n",
    "    \"\"\"\n",
    "\n",
    "    # drop columns Unnamed: 0,count,hate_speech,offensive_language,neither\n",
    "    raw_data = raw_data.drop(columns=['Unnamed: 0','count','hate_speech','offensive_language','neither'])\n",
    "\n",
    "    # Step 1: Preprocess the data\n",
    "    raw_data['tweet'] = preprocess(raw_data['tweet'])\n",
    "    # rename the column 'tweet' to 'preprocessed_tweet'\n",
    "    raw_data.rename(columns = {'tweet':'preprocessed_tweet'}, inplace = True)\n",
    "\n",
    "    # Step 2: Extract features\n",
    "    data_features = extract_features(raw_data)\n",
    "\n",
    "    # Step 3: Split the data into training, validation, and testing sets\n",
    "    X_train, y_train, X_val, y_val, X_test, y_test = split_data(data_features)\n",
    "\n",
    "    # Step 4: Train the model\n",
    "    trained_model = train_model(model, X_train, y_train)\n",
    "\n",
    "    # Step 5: Tune hyperparameters (using the validation set)\n",
    "    tuned_model, best_params = tune_hyperparameters(trained_model, param_grid, X_val, y_val)\n",
    "\n",
    "    # Step 6: Evaluate the tuned model (using the test set)\n",
    "    evaluation_metrics, conf_matrix = evaluate_model(tuned_model, X_test, y_test)\n",
    "\n",
    "    # Return the tuned model and its evaluation metrics\n",
    "    return tuned_model, evaluation_metrics, conf_matrix"
   ]
  },
  {
   "cell_type": "markdown",
   "metadata": {},
   "source": [
    "### Train SVM"
   ]
  },
  {
   "cell_type": "code",
   "execution_count": 76,
   "metadata": {},
   "outputs": [
    {
     "name": "stdout",
     "output_type": "stream",
     "text": [
      "accuracy: 0.9184990921928586\n",
      "precision: 0.7110675808031341\n",
      "recall: 0.8694610778443114\n",
      "f1_score: 0.7823275862068966\n",
      "confusion_matrix: [[3827  295]\n",
      " [ 109  726]]\n"
     ]
    },
    {
     "data": {
      "image/png": "[encoded data removed]",
      "text/plain": [
       "<Figure size 640x480 with 2 Axes>"
      ]
     },
     "metadata": {},
     "output_type": "display_data"
    }
   ],
   "source": [
    "param_grid = {\n",
    "    'C': [0.1, 1, 10, 100],  # Regularization parameter\n",
    "    'gamma': [1, 0.1, 0.01, 0.001],  # Kernel coefficient\n",
    "    'kernel': ['rbf', 'poly', 'sigmoid']  # Specifies the kernel type\n",
    "}\n",
    "\n",
    "# Initialize the model\n",
    "model = SVC()\n",
    "\n",
    "# Execute the pipeline\n",
    "tuned_model, evaluation_metrics, conf_matrix = model_pipeline(data, model, param_grid)\n",
    "\n",
    "# Print the evaluation metrics\n",
    "for metric, value in evaluation_metrics.items():\n",
    "    print(f'{metric}: {value}')\n",
    "\n",
    "# Print and plot the confusion matrix\n",
    "sns.heatmap(conf_matrix, annot=True, fmt='d', cmap='Blues')\n",
    "plt.xlabel('Predicted labels')\n",
    "plt.ylabel('True labels')\n",
    "plt.title('SVM Confusion Matrix')\n",
    "plt.show()"
   ]
  },
  {
   "cell_type": "markdown",
   "metadata": {},
   "source": [
    "### Train Random Forest"
   ]
  },
  {
   "cell_type": "code",
   "execution_count": 77,
   "metadata": {},
   "outputs": [
    {
     "name": "stderr",
     "output_type": "stream",
     "text": [
      "/Users/danielmedina/Documents/Duke/classes/spring-2024/aipi540/no_hate_transformer/env/lib/python3.11/site-packages/sklearn/model_selection/_validation.py:547: FitFailedWarning: \n",
      "900 fits failed out of a total of 2700.\n",
      "The score on these train-test partitions for these parameters will be set to nan.\n",
      "If these failures are not expected, you can try to debug them by setting error_score='raise'.\n",
      "\n",
      "Below are more details about the failures:\n",
      "--------------------------------------------------------------------------------\n",
      "900 fits failed with the following error:\n",
      "Traceback (most recent call last):\n",
      "  File \"/Users/danielmedina/Documents/Duke/classes/spring-2024/aipi540/no_hate_transformer/env/lib/python3.11/site-packages/sklearn/model_selection/_validation.py\", line 895, in _fit_and_score\n",
      "    estimator.fit(X_train, y_train, **fit_params)\n",
      "  File \"/Users/danielmedina/Documents/Duke/classes/spring-2024/aipi540/no_hate_transformer/env/lib/python3.11/site-packages/sklearn/base.py\", line 1467, in wrapper\n",
      "    estimator._validate_params()\n",
      "  File \"/Users/danielmedina/Documents/Duke/classes/spring-2024/aipi540/no_hate_transformer/env/lib/python3.11/site-packages/sklearn/base.py\", line 666, in _validate_params\n",
      "    validate_parameter_constraints(\n",
      "  File \"/Users/danielmedina/Documents/Duke/classes/spring-2024/aipi540/no_hate_transformer/env/lib/python3.11/site-packages/sklearn/utils/_param_validation.py\", line 95, in validate_parameter_constraints\n",
      "    raise InvalidParameterError(\n",
      "sklearn.utils._param_validation.InvalidParameterError: The 'max_features' parameter of RandomForestClassifier must be an int in the range [1, inf), a float in the range (0.0, 1.0], a str among {'sqrt', 'log2'} or None. Got 'auto' instead.\n",
      "\n",
      "  warnings.warn(some_fits_failed_message, FitFailedWarning)\n",
      "/Users/danielmedina/Documents/Duke/classes/spring-2024/aipi540/no_hate_transformer/env/lib/python3.11/site-packages/sklearn/model_selection/_search.py:1051: UserWarning: One or more of the test scores are non-finite: [       nan        nan        nan        nan        nan        nan\n",
      "        nan        nan        nan        nan        nan        nan\n",
      "        nan        nan        nan        nan        nan        nan\n",
      "        nan        nan        nan        nan        nan        nan\n",
      "        nan        nan        nan        nan        nan        nan\n",
      "        nan        nan        nan        nan        nan        nan\n",
      " 0.90800918 0.92455059 0.92394555 0.92434817 0.91587574 0.92354171\n",
      " 0.92434796 0.92535684 0.91527152 0.92454917 0.92737317 0.92576047\n",
      " 0.92293586 0.92535603 0.92434695 0.92596148 0.91305133 0.92354131\n",
      " 0.92576149 0.92414554 0.91627999 0.92414513 0.9235411  0.924953\n",
      " 0.91527152 0.91930296 0.92374272 0.92394372 0.91970842 0.92011063\n",
      " 0.92293423 0.92051447 0.91627917 0.91990882 0.92454835 0.9223296\n",
      " 0.90235771 0.91466586 0.91809389 0.91708563 0.90538272 0.91688198\n",
      " 0.91345395 0.92011165 0.90679828 0.91668321 0.9156725  0.91950579\n",
      " 0.90356739 0.91284708 0.91244568 0.91365597 0.90861402 0.91668159\n",
      " 0.91446242 0.9142606  0.9059902  0.91204225 0.91264668 0.91365556\n",
      " 0.90034179 0.9007442  0.90215671 0.9009452  0.89973532 0.90054299\n",
      " 0.9019553  0.90114539 0.89429136 0.90357105 0.90094581 0.89993653\n",
      "        nan        nan        nan        nan        nan        nan\n",
      "        nan        nan        nan        nan        nan        nan\n",
      "        nan        nan        nan        nan        nan        nan\n",
      "        nan        nan        nan        nan        nan        nan\n",
      "        nan        nan        nan        nan        nan        nan\n",
      "        nan        nan        nan        nan        nan        nan\n",
      " 0.86180992 0.86342608 0.86362708 0.86564382 0.85615967 0.8680646\n",
      " 0.86463575 0.86382869 0.85717058 0.86302143 0.86221416 0.86403071\n",
      " 0.85676736 0.86403031 0.85979379 0.86342445 0.86100693 0.86241679\n",
      " 0.86140791 0.86261779 0.85918692 0.86221416 0.86503898 0.86403132\n",
      " 0.85273388 0.86322345 0.86100265 0.86322202 0.85333933 0.86060085\n",
      " 0.86120549 0.86261881 0.85636657 0.86261759 0.86201234 0.86080389\n",
      " 0.84688324 0.84204066 0.8394197  0.83699831 0.83901525 0.83800719\n",
      " 0.83861182 0.83740153 0.85071429 0.84002474 0.83740194 0.83699851\n",
      " 0.84042756 0.83881465 0.83699831 0.83699851 0.83982252 0.83861223\n",
      " 0.83639306 0.83659488 0.84163642 0.83719951 0.83780598 0.83800698\n",
      " 0.84224289 0.83760396 0.83760396 0.83659467 0.83921768 0.83619145\n",
      " 0.83901566 0.83639286 0.84587497 0.83820941 0.83619125 0.83619125\n",
      "        nan        nan        nan        nan        nan        nan\n",
      "        nan        nan        nan        nan        nan        nan\n",
      "        nan        nan        nan        nan        nan        nan\n",
      "        nan        nan        nan        nan        nan        nan\n",
      "        nan        nan        nan        nan        nan        nan\n",
      "        nan        nan        nan        nan        nan        nan\n",
      " 0.88823891 0.89227157 0.892273   0.89186957 0.88581487 0.89065765\n",
      " 0.89206894 0.89025524 0.87976283 0.88944675 0.88924535 0.89045624\n",
      " 0.88662112 0.8910623  0.8912629  0.88803567 0.88763224 0.8882385\n",
      " 0.89045645 0.89227178 0.89409097 0.88944879 0.88783344 0.89106129\n",
      " 0.88137369 0.88379773 0.88400036 0.88743042 0.88379813 0.8870272\n",
      " 0.88601771 0.8872284  0.88440603 0.88319391 0.88722596 0.88742961\n",
      " 0.86907449 0.87290432 0.87774731 0.87694085 0.87431806 0.87552794\n",
      " 0.87411604 0.87391503 0.87573138 0.87371322 0.87411604 0.8735114\n",
      " 0.87350957 0.8737124  0.87189748 0.8720993  0.8739128  0.87290432\n",
      " 0.86967892 0.87411665 0.86846762 0.873712   0.87230172 0.87149446\n",
      " 0.86987667 0.86846762 0.86806399 0.86988074 0.86524039 0.86887186\n",
      " 0.86887105 0.8692755  0.86544221 0.86887186 0.86745915 0.86846823\n",
      "        nan        nan        nan        nan        nan        nan\n",
      "        nan        nan        nan        nan        nan        nan\n",
      "        nan        nan        nan        nan        nan        nan\n",
      "        nan        nan        nan        nan        nan        nan\n",
      "        nan        nan        nan        nan        nan        nan\n",
      "        nan        nan        nan        nan        nan        nan\n",
      " 0.90134924 0.91143741 0.91123702 0.9130495  0.89913252 0.91325193\n",
      " 0.91244527 0.91547089 0.9112358  0.91284728 0.9126479  0.91849773\n",
      " 0.90377083 0.91708746 0.91426284 0.91587493 0.90760616 0.91345476\n",
      " 0.91083217 0.91567495 0.90195591 0.91305011 0.91305052 0.91123397\n",
      " 0.90699603 0.90840956 0.90639261 0.90699705 0.89933067 0.90276114\n",
      " 0.91526867 0.9116376  0.90639302 0.90861097 0.91204083 0.90820815\n",
      " 0.89186875 0.89106129 0.88823748 0.88783426 0.88218788 0.8884391\n",
      " 0.88884273 0.88924616 0.88904516 0.89106169 0.88763285 0.88985161\n",
      " 0.88238623 0.88541144 0.89025504 0.89025443 0.88621932 0.88561428\n",
      " 0.88480864 0.88702679 0.87693882 0.88500924 0.88642093 0.88521105\n",
      " 0.88379915 0.88137675 0.88258724 0.88137797 0.87774812 0.88218503\n",
      " 0.88157836 0.88218442 0.88097332 0.87875517 0.88218462 0.87956264\n",
      "        nan        nan        nan        nan        nan        nan\n",
      "        nan        nan        nan        nan        nan        nan\n",
      "        nan        nan        nan        nan        nan        nan\n",
      "        nan        nan        nan        nan        nan        nan\n",
      "        nan        nan        nan        nan        nan        nan\n",
      "        nan        nan        nan        nan        nan        nan\n",
      " 0.91062994 0.91728988 0.91869975 0.9193052  0.90276195 0.92132275\n",
      " 0.92132214 0.92233041 0.91062974 0.91849976 0.91849753 0.92172598\n",
      " 0.9118445  0.91970741 0.91849793 0.92233082 0.90922048 0.91627917\n",
      " 0.91869995 0.91869853 0.90922272 0.91688462 0.9207173  0.92475302\n",
      " 0.91103317 0.91587452 0.91728663 0.91809349 0.91083034 0.91607675\n",
      " 0.91829429 0.91910216 0.91103358 0.91506909 0.91849692 0.91950681\n",
      " 0.88924555 0.9021563  0.90296316 0.90074521 0.90619548 0.89731596\n",
      " 0.90417426 0.90296458 0.89650626 0.90034118 0.89751595 0.90195449\n",
      " 0.8969105  0.89852605 0.8977198  0.89610486 0.89933494 0.89933454\n",
      " 0.9005432  0.89771838 0.8956992  0.89590284 0.89812303 0.90135005\n",
      " 0.89711252 0.89570286 0.89247339 0.89166734 0.89247054 0.89045624\n",
      " 0.89348267 0.88924575 0.88460479 0.89045624 0.89085764 0.8924738 ]\n",
      "  warnings.warn(\n"
     ]
    },
    {
     "name": "stdout",
     "output_type": "stream",
     "text": [
      "accuracy: 0.9142626588662498\n",
      "precision: 0.7308558558558559\n",
      "recall: 0.7772455089820359\n",
      "f1_score: 0.7533372025536854\n",
      "confusion_matrix: [[3883  239]\n",
      " [ 186  649]]\n"
     ]
    },
    {
     "data": {
      "image/png": "[encoded data removed]",
      "text/plain": [
       "<Figure size 640x480 with 2 Axes>"
      ]
     },
     "metadata": {},
     "output_type": "display_data"
    }
   ],
   "source": [
    "# Define the parameter grid for Random Forest\n",
    "param_grid = {\n",
    "    'n_estimators': [10, 50, 100, 200],  # Number of trees\n",
    "    'max_features': ['auto', 'sqrt', 'log2'],  # Number of features to consider at each split\n",
    "    'max_depth': [None, 10, 20, 30, 40],  # Maximum depth of the tree\n",
    "    'min_samples_split': [2, 5, 10],  # Minimum number of samples required to split a node\n",
    "    'min_samples_leaf': [1, 2, 4]  # Minimum number of samples required at each leaf node\n",
    "}\n",
    "\n",
    "# Initialize the Random Forest model\n",
    "model = RandomForestClassifier()\n",
    "\n",
    "# Execute the pipeline\n",
    "tuned_model, evaluation_metrics, conf_matrix = model_pipeline(data, model, param_grid)\n",
    "\n",
    "# Print the evaluation metrics\n",
    "for metric, value in evaluation_metrics.items():\n",
    "    print(f'{metric}: {value}')\n",
    "\n",
    "# Print and plot the confusion matrix\n",
    "sns.heatmap(conf_matrix, annot=True, fmt='d', cmap='Blues')\n",
    "plt.xlabel('Predicted labels')\n",
    "plt.ylabel('True labels')\n",
    "plt.title('Random Forest Confusion Matrix')\n",
    "plt.show()"
   ]
  }
 ],
 "metadata": {
  "kernelspec": {
   "display_name": "env",
   "language": "python",
   "name": "python3"
  },
  "language_info": {
   "codemirror_mode": {
    "name": "ipython",
    "version": 3
   },
   "file_extension": ".py",
   "mimetype": "text/x-python",
   "name": "python",
   "nbconvert_exporter": "python",
   "pygments_lexer": "ipython3",
   "version": "3.11.7"
  },
  "orig_nbformat": 4
 },
 "nbformat": 4,
 "nbformat_minor": 2
}
